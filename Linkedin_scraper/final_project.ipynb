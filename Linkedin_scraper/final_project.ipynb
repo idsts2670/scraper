{
 "cells": [
  {
   "cell_type": "code",
   "execution_count": 7,
   "metadata": {},
   "outputs": [],
   "source": [
    "# import libraries\n",
    "from selenium import webdriver\n",
    "from selenium.webdriver.common.keys import Keys\n",
    "from selenium.webdriver.common.by import By\n",
    "from selenium.webdriver.support.ui import WebDriverWait\n",
    "from selenium.webdriver.chrome.service import Service as ChromeService\n",
    "from webdriver_manager.chrome import ChromeDriverManager\n",
    "from selenium.webdriver.support import expected_conditions as EC\n",
    "from bs4 import BeautifulSoup as bs\n",
    "import re as re\n",
    "import time\n",
    "import pandas as pd\n",
    "import os"
   ]
  },
  {
   "cell_type": "code",
   "execution_count": 22,
   "metadata": {},
   "outputs": [
    {
     "name": "stdout",
     "output_type": "stream",
     "text": [
      "/Users/satoshiido/Documents/chromedriver_mac_arm64/chromedriver\n",
      "idsts2670@gmail.com\n",
      "Ss01182389!\n"
     ]
    }
   ],
   "source": [
    "# The location of the web driver in your system, a username, and a password to log in with\n",
    "## https://www.linkedin.com/\n",
    "## first get the chrome webdriver on your local: https://bit.ly/3FHqvF7\n",
    "## my webdriver path: /Users/satoshiido/Documents/chromedriver_mac_arm64/chromedriver\n",
    "PATH = input(\"Enter the Webdriver path: \")\n",
    "## input your linkedin account username or email address\n",
    "USERNAME = input(\"Enter the username: \")\n",
    "## input your linkedin account password\n",
    "PASSWORD = input(\"Enter the password: \")\n",
    "print(PATH)\n",
    "print(USERNAME)\n",
    "print(PASSWORD)"
   ]
  },
  {
   "cell_type": "code",
   "execution_count": 23,
   "metadata": {},
   "outputs": [
    {
     "name": "stderr",
     "output_type": "stream",
     "text": [
      "/var/folders/j0/tkdlg4n54w74ht8tklyh79640000gn/T/ipykernel_8776/1811885428.py:4: DeprecationWarning: executable_path has been deprecated, please pass in a Service object\n",
      "  driver = webdriver.Chrome(PATH)\n"
     ]
    }
   ],
   "source": [
    "# web documents of WebDriver for Chrome: https://chromedriver.chromium.org/getting-started\n",
    "# how to include the ChromeDriver location in Mac OS System PATH: https://bit.ly/3lvBnz3\n",
    "# when you get error: \"“chromedriver” cannot be opened because the developer cannot be verified\": https://bit.ly/3lqukb1\n",
    "driver = webdriver.Chrome(PATH)\n",
    "driver.get(\"https://www.linkedin.com/uas/login\")\n",
    "time.sleep(3)\n",
    "\n",
    "# tell the driver to login with the credentials provided above\n",
    "email = driver.find_element(By.ID, 'username')\n",
    "email.send_keys(USERNAME)\n",
    "password = driver.find_element(By.ID, 'password')\n",
    "password.send_keys(PASSWORD)\n",
    "time.sleep(3)\n",
    "password.send_keys(Keys.RETURN)\n",
    "# driver.quit()"
   ]
  },
  {
   "attachments": {},
   "cell_type": "markdown",
   "metadata": {},
   "source": [
    "# LinkedIn connections"
   ]
  },
  {
   "cell_type": "code",
   "execution_count": 24,
   "metadata": {},
   "outputs": [],
   "source": [
    "page = input(\"Enter the Company or User Linkedin URL: \")\n",
    "# if its company\n",
    "company_name = page[33:-1]\n",
    "# if its user\n",
    "user_name = page[28:-1]"
   ]
  },
  {
   "cell_type": "code",
   "execution_count": 26,
   "metadata": {},
   "outputs": [],
   "source": [
    "driver.get(page + 'recent-activity/')"
   ]
  },
  {
   "cell_type": "code",
   "execution_count": 28,
   "metadata": {},
   "outputs": [],
   "source": [
    "# for company profile\n",
    "# driver.get(page + 'posts/')\n",
    "# for personal profile\n",
    "driver.get(page + 'recent-activity/')\n",
    "SCROLL_PAUSE_TIME = 1.5\n",
    "# Get scroll height\n",
    "last_height = driver.execute_script(\"return document.body.scrollHeight\")\n",
    "\n",
    "\n",
    "while True:\n",
    "    # Scroll down to bottom\n",
    "    driver.execute_script(\"window.scrollTo(0, document.body.scrollHeight);\")\n",
    "\n",
    "    # Wait to load page\n",
    "    time.sleep(SCROLL_PAUSE_TIME)\n",
    "\n",
    "    # Calculate new scroll height and compare with last scroll height\n",
    "    new_height = driver.execute_script(\"return document.body.scrollHeight\")\n",
    "    if new_height == last_height:\n",
    "        break\n",
    "    last_height = new_height"
   ]
  },
  {
   "cell_type": "code",
   "execution_count": null,
   "metadata": {},
   "outputs": [],
   "source": [
    "def Scrape_func(a,b,c):\n",
    "    name = a[28:-1]\n",
    "    page = a\n",
    "    time.sleep(10)\n",
    "\n",
    "    driver.get(page + 'detail/recent-activity/shares/')  \n",
    "    start=time.time()\n",
    "    lastHeight = driver.execute_script(\"return document.body.scrollHeight\")\n",
    "    while True:\n",
    "        driver.execute_script(\"window.scrollTo(0, document.body.scrollHeight);\")\n",
    "        time.sleep(5)\n",
    "        newHeight = driver.execute_script(\"return document.body.scrollHeight\")\n",
    "        if newHeight == lastHeight:\n",
    "            break\n",
    "        lastHeight = newHeight\n",
    "        end=time.time()\n",
    "        if round(end-start)>20:\n",
    "            break\n",
    "\n",
    "    company_page = driver.page_source   \n",
    "\n",
    "    linkedin_soup = bs(company_page.encode(\"utf-8\"), \"html\")\n",
    "    linkedin_soup.prettify()\n",
    "    containers = linkedin_soup.findAll(\"div\",{\"class\":\"occludable-update ember-view\"})\n",
    "    print(\"Fetching data from account: \"+ name)\n",
    "    iterations = 0\n",
    "    nos = int(input(\"Enter number of posts: \"))\n",
    "    for container in containers:\n",
    "\n",
    "        try:\n",
    "            text_box = container.find(\"div\",{\"class\":\"feed-shared-update-v2__description-wrapper ember-view\"})\n",
    "            text = text_box.find(\"span\",{\"dir\":\"ltr\"})\n",
    "            b.append(text.text.strip())\n",
    "            c.append(name)\n",
    "            iterations += 1\n",
    "            print(iterations)\n",
    "            \n",
    "            if(iterations==nos):\n",
    "                break\n",
    "\n",
    "        except:\n",
    "            pass \n",
    "\n",
    "n = int(input(\"Enter the number of entries: \"))\n",
    "for i in range(n):\n",
    "    post_links.append(input(\"Enter the link: \"))\n",
    "for j in range(n):\n",
    "    Scrape_func(post_links[j],post_texts,post_names)\n",
    "\n",
    "        \n",
    "driver.quit()"
   ]
  },
  {
   "cell_type": "code",
   "execution_count": null,
   "metadata": {},
   "outputs": [
    {
     "name": "stderr",
     "output_type": "stream",
     "text": [
      "[WDM] - Downloading: 100%|██████████| 8.82M/8.82M [00:15<00:00, 610kB/s] \n"
     ]
    }
   ],
   "source": [
    "from selenium import webdriver\n",
    "from webdriver_manager.chrome import ChromeDriverManager\n",
    "from selenium.webdriver.chrome.service import Service\n",
    "s=Service(ChromeDriverManager().install())\n"
   ]
  },
  {
   "cell_type": "code",
   "execution_count": 3,
   "metadata": {},
   "outputs": [
    {
     "ename": "JSONDecodeError",
     "evalue": "Expecting value: line 1 column 1 (char 0)",
     "output_type": "error",
     "traceback": [
      "\u001b[0;31m---------------------------------------------------------------------------\u001b[0m",
      "\u001b[0;31mJSONDecodeError\u001b[0m                           Traceback (most recent call last)",
      "Cell \u001b[0;32mIn[3], line 59\u001b[0m\n\u001b[1;32m     55\u001b[0m         companies\u001b[39m.\u001b[39mappend(Company\u001b[39m.\u001b[39mfrom_json(comp[\u001b[39m'\u001b[39m\u001b[39mfields\u001b[39m\u001b[39m'\u001b[39m]))\n\u001b[1;32m     56\u001b[0m     \u001b[39mreturn\u001b[39;00m companies\n\u001b[0;32m---> 59\u001b[0m f500 \u001b[39m=\u001b[39m fortune500_list()\n",
      "Cell \u001b[0;32mIn[3], line 52\u001b[0m, in \u001b[0;36mfortune500_list\u001b[0;34m()\u001b[0m\n\u001b[1;32m     50\u001b[0m r \u001b[39m=\u001b[39m requests\u001b[39m.\u001b[39mget(url)\n\u001b[1;32m     51\u001b[0m \u001b[39m#r.encoding = 'ISO-8859-1'\u001b[39;00m\n\u001b[0;32m---> 52\u001b[0m json_data \u001b[39m=\u001b[39m json\u001b[39m.\u001b[39;49mloads(r\u001b[39m.\u001b[39;49mtext)[\u001b[39m1\u001b[39m][\u001b[39m'\u001b[39m\u001b[39mitems\u001b[39m\u001b[39m'\u001b[39m]\n\u001b[1;32m     53\u001b[0m companies \u001b[39m=\u001b[39m []\n\u001b[1;32m     54\u001b[0m \u001b[39mfor\u001b[39;00m comp \u001b[39min\u001b[39;00m json_data:\n",
      "File \u001b[0;32m~/miniforge3/envs/python38/lib/python3.9/json/__init__.py:346\u001b[0m, in \u001b[0;36mloads\u001b[0;34m(s, cls, object_hook, parse_float, parse_int, parse_constant, object_pairs_hook, **kw)\u001b[0m\n\u001b[1;32m    341\u001b[0m     s \u001b[39m=\u001b[39m s\u001b[39m.\u001b[39mdecode(detect_encoding(s), \u001b[39m'\u001b[39m\u001b[39msurrogatepass\u001b[39m\u001b[39m'\u001b[39m)\n\u001b[1;32m    343\u001b[0m \u001b[39mif\u001b[39;00m (\u001b[39mcls\u001b[39m \u001b[39mis\u001b[39;00m \u001b[39mNone\u001b[39;00m \u001b[39mand\u001b[39;00m object_hook \u001b[39mis\u001b[39;00m \u001b[39mNone\u001b[39;00m \u001b[39mand\u001b[39;00m\n\u001b[1;32m    344\u001b[0m         parse_int \u001b[39mis\u001b[39;00m \u001b[39mNone\u001b[39;00m \u001b[39mand\u001b[39;00m parse_float \u001b[39mis\u001b[39;00m \u001b[39mNone\u001b[39;00m \u001b[39mand\u001b[39;00m\n\u001b[1;32m    345\u001b[0m         parse_constant \u001b[39mis\u001b[39;00m \u001b[39mNone\u001b[39;00m \u001b[39mand\u001b[39;00m object_pairs_hook \u001b[39mis\u001b[39;00m \u001b[39mNone\u001b[39;00m \u001b[39mand\u001b[39;00m \u001b[39mnot\u001b[39;00m kw):\n\u001b[0;32m--> 346\u001b[0m     \u001b[39mreturn\u001b[39;00m _default_decoder\u001b[39m.\u001b[39;49mdecode(s)\n\u001b[1;32m    347\u001b[0m \u001b[39mif\u001b[39;00m \u001b[39mcls\u001b[39m \u001b[39mis\u001b[39;00m \u001b[39mNone\u001b[39;00m:\n\u001b[1;32m    348\u001b[0m     \u001b[39mcls\u001b[39m \u001b[39m=\u001b[39m JSONDecoder\n",
      "File \u001b[0;32m~/miniforge3/envs/python38/lib/python3.9/json/decoder.py:337\u001b[0m, in \u001b[0;36mJSONDecoder.decode\u001b[0;34m(self, s, _w)\u001b[0m\n\u001b[1;32m    332\u001b[0m \u001b[39mdef\u001b[39;00m \u001b[39mdecode\u001b[39m(\u001b[39mself\u001b[39m, s, _w\u001b[39m=\u001b[39mWHITESPACE\u001b[39m.\u001b[39mmatch):\n\u001b[1;32m    333\u001b[0m     \u001b[39m\"\"\"Return the Python representation of ``s`` (a ``str`` instance\u001b[39;00m\n\u001b[1;32m    334\u001b[0m \u001b[39m    containing a JSON document).\u001b[39;00m\n\u001b[1;32m    335\u001b[0m \n\u001b[1;32m    336\u001b[0m \u001b[39m    \"\"\"\u001b[39;00m\n\u001b[0;32m--> 337\u001b[0m     obj, end \u001b[39m=\u001b[39m \u001b[39mself\u001b[39;49m\u001b[39m.\u001b[39;49mraw_decode(s, idx\u001b[39m=\u001b[39;49m_w(s, \u001b[39m0\u001b[39;49m)\u001b[39m.\u001b[39;49mend())\n\u001b[1;32m    338\u001b[0m     end \u001b[39m=\u001b[39m _w(s, end)\u001b[39m.\u001b[39mend()\n\u001b[1;32m    339\u001b[0m     \u001b[39mif\u001b[39;00m end \u001b[39m!=\u001b[39m \u001b[39mlen\u001b[39m(s):\n",
      "File \u001b[0;32m~/miniforge3/envs/python38/lib/python3.9/json/decoder.py:355\u001b[0m, in \u001b[0;36mJSONDecoder.raw_decode\u001b[0;34m(self, s, idx)\u001b[0m\n\u001b[1;32m    353\u001b[0m     obj, end \u001b[39m=\u001b[39m \u001b[39mself\u001b[39m\u001b[39m.\u001b[39mscan_once(s, idx)\n\u001b[1;32m    354\u001b[0m \u001b[39mexcept\u001b[39;00m \u001b[39mStopIteration\u001b[39;00m \u001b[39mas\u001b[39;00m err:\n\u001b[0;32m--> 355\u001b[0m     \u001b[39mraise\u001b[39;00m JSONDecodeError(\u001b[39m\"\u001b[39m\u001b[39mExpecting value\u001b[39m\u001b[39m\"\u001b[39m, s, err\u001b[39m.\u001b[39mvalue) \u001b[39mfrom\u001b[39;00m \u001b[39mNone\u001b[39m\n\u001b[1;32m    356\u001b[0m \u001b[39mreturn\u001b[39;00m obj, end\n",
      "\u001b[0;31mJSONDecodeError\u001b[0m: Expecting value: line 1 column 1 (char 0)"
     ]
    }
   ],
   "source": [
    "import json\n",
    "import requests\n",
    "from dataclasses import dataclass, asdict\n",
    "\n",
    "@dataclass\n",
    "class Company():\n",
    "    name: str\n",
    "    rank: int\n",
    "    revenues: float\n",
    "    revchange: float\n",
    "    profits: float\n",
    "    assets: float\n",
    "    prftchange: float\n",
    "    employees: int\n",
    "    rankchange: int\n",
    "    hqcountry: str\n",
    "    newcommer: str\n",
    "    rankdrop: str\n",
    "    rankgain: str\n",
    "    sector: str\n",
    "    industry: str\n",
    "    hqcity: str\n",
    "    hqstate: str\n",
    "    profitable: str\n",
    "    ceowoman: str\n",
    "    jobgrowth: str\n",
    "    fortune500: str\n",
    "    title: str\n",
    "\n",
    "    @classmethod\n",
    "    def from_json(cls, jstring):\n",
    "        c = {}\n",
    "        for i in jstring:\n",
    "            c[i['key'].replace('-', '_').lower()] = \\\n",
    "                    i['value'].replace('&#038;', '&').replace('&#8217;', \"'\")\n",
    "\n",
    "        #print(f\"Rank: {c['rank']:4}  Name: {c['name']}\")\n",
    "        #print(json.dumps(c, indent=4))\n",
    "        return cls(c['name'], int(c['rank']), float(c['revenues']), \n",
    "                   float(c['revchange']), float(c['profits']), float(c['assets']), \n",
    "                   c['prftchange'], int(c['employees']), c['rankchange'], \n",
    "                   c['hqcountry'], c['newcomer'], c['rankdrop'], c['rankgain'],\n",
    "                   c['sector'], c['industry'], c['hqcity'], c['hqstate'],\n",
    "                   c['profitable'], c['ceowoman'], c['jobgrowth'],\n",
    "                   c['fortune500_y_n'], c['title'])\n",
    "\n",
    "\n",
    "def fortune500_list():\n",
    "    url = 'https://content.fortune.com/wp-json/irving/v1/data/franchise-search-results?list_id=2666483'\n",
    "    r = requests.get(url)\n",
    "    #r.encoding = 'ISO-8859-1'\n",
    "    json_data = json.loads(r.text)[1]['items']\n",
    "    companies = []\n",
    "    for comp in json_data:\n",
    "        companies.append(Company.from_json(comp['fields']))\n",
    "    return companies\n",
    "\n",
    "\n",
    "f500 = fortune500_list()"
   ]
  },
  {
   "cell_type": "code",
   "execution_count": null,
   "metadata": {},
   "outputs": [],
   "source": []
  }
 ],
 "metadata": {
  "kernelspec": {
   "display_name": "python38",
   "language": "python",
   "name": "python3"
  },
  "language_info": {
   "codemirror_mode": {
    "name": "ipython",
    "version": 3
   },
   "file_extension": ".py",
   "mimetype": "text/x-python",
   "name": "python",
   "nbconvert_exporter": "python",
   "pygments_lexer": "ipython3",
   "version": "3.8.16"
  },
  "orig_nbformat": 4,
  "vscode": {
   "interpreter": {
    "hash": "c919f66377084bbe5264acaad3227a0b6e2b7b31c717b6c23ee3b90ae87f6f0d"
   }
  }
 },
 "nbformat": 4,
 "nbformat_minor": 2
}
